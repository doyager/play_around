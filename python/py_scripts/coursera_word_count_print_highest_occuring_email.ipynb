{
 "cells": [
  {
   "cell_type": "code",
   "execution_count": 1,
   "metadata": {},
   "outputs": [
    {
     "name": "stdout",
     "output_type": "stream",
     "text": [
      "Enter file:\n",
      "cwen@iupui.edu 5\n"
     ]
    },
    {
     "data": {
      "text/plain": [
       "'\\nDesire o/p:\\ncwen@iupui.edu 5\\n\\nOut o/p:\\n\\ncwen@iupui.edu 5\\n'"
      ]
     },
     "execution_count": 1,
     "metadata": {},
     "output_type": "execute_result"
    }
   ],
   "source": [
    "\n",
    "'''\n",
    "####### WORD COUTN AND FIND THE MOST OCCURING EMAIL #######\n",
    "9.4 Write a program to read through the mbox-short.txt and figure out who has sent the \n",
    "greatest number of mail messages. The program looks for 'From ' lines and takes the\n",
    "second word of those lines as the person who sent the mail. The program creates a\n",
    "Python dictionary that maps the sender's mail address to a count of the number of \n",
    "times they appear in the file. After the dictionary is produced, the program reads through the\n",
    "dictionary using a maximum loop to find the most prolific committer.\n",
    "\n",
    "Desire o/p:\n",
    "cwen@iupui.edu 5\n",
    "\n",
    "- we dont enter a file name , it wil take default file name\n",
    "'''\n",
    "\n",
    "\n",
    "\n",
    "\n",
    "name = input(\"Enter file:\")\n",
    "if len(name) < 1:\n",
    "    name = \"/Users/ag03812/workspace/personal/learning/python_learn/mbox-short.txt\"\n",
    "handle = open(name)\n",
    "\n",
    "email_dic=dict()\n",
    "for line in handle:\n",
    "    if line.startswith('From') and (not line.startswith('From:')):\n",
    "    \t#print(line)\n",
    "        words=line.split()\n",
    "        #print(words[1])\n",
    "        email_dic[words[1]]=email_dic.get(words[1],0)+1\n",
    "\n",
    "#print(email_dic.values())\n",
    "#find the largest count \n",
    "\n",
    "big_email=None\n",
    "big_count=None\n",
    "\n",
    "\n",
    "for k,v in email_dic.items():\n",
    "    if big_count is None or big_count < v:\n",
    "        big_email=k\n",
    "        big_count=v\n",
    "            \n",
    "print(big_email,big_count)\n",
    "\n",
    "'''\n",
    "Our o/p:\n",
    "\n",
    "cwen@iupui.edu 5\n",
    "'''"
   ]
  },
  {
   "cell_type": "code",
   "execution_count": null,
   "metadata": {},
   "outputs": [],
   "source": []
  }
 ],
 "metadata": {
  "kernelspec": {
   "display_name": "Python 3",
   "language": "python",
   "name": "python3"
  },
  "language_info": {
   "codemirror_mode": {
    "name": "ipython",
    "version": 3
   },
   "file_extension": ".py",
   "mimetype": "text/x-python",
   "name": "python",
   "nbconvert_exporter": "python",
   "pygments_lexer": "ipython3",
   "version": "3.8.3"
  }
 },
 "nbformat": 4,
 "nbformat_minor": 4
}
