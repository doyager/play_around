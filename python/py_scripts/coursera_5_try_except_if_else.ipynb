{
 "cells": [
  {
   "cell_type": "code",
   "execution_count": 1,
   "metadata": {},
   "outputs": [
    {
     "name": "stdout",
     "output_type": "stream",
     "text": [
      "Enter a number: 7\n",
      "Enter a number: 19\n",
      "Enter a number: bob\n",
      "Invalid input\n",
      "Enter a number: 1\n",
      "Enter a number: 99\n",
      "Enter a number: 25\n",
      "Enter a number: done\n",
      "Maximum 99\n",
      "Minimum  1\n"
     ]
    }
   ],
   "source": [
    "#if type(num) == int\n",
    "'''\n",
    "take input from user for numbers\n",
    "stop taking input when done is entered\n",
    "throw a error when invalid number is entered\n",
    "'''\n",
    "largest = None\n",
    "smallest = None\n",
    "while True:\n",
    "\ttry:\n",
    "\t\tnum = input(\"Enter a number: \")\n",
    "\t\tif num == \"done\":\n",
    "\t\t\tbreak\n",
    "\t\tnum1 = int(num)\n",
    "\t\tif smallest is None:\n",
    "\t\t\tsmallest = num1\n",
    "\t\tif largest is None:\n",
    "\t\t\tlargest = num1               \n",
    "\t\tif num1 > largest:\n",
    "\t\t\tlargest = num1\n",
    "\t\tif num1 < smallest:\n",
    "\t\t\tsmallest = num1\n",
    "\texcept Exception as e:\n",
    "\t\tprint(\"Invalid input\")\n",
    "print(\"Maximum\", largest)\n",
    "print(\"Minimum \", smallest)"
   ]
  },
  {
   "cell_type": "code",
   "execution_count": null,
   "metadata": {},
   "outputs": [],
   "source": []
  }
 ],
 "metadata": {
  "kernelspec": {
   "display_name": "Python 3",
   "language": "python",
   "name": "python3"
  },
  "language_info": {
   "codemirror_mode": {
    "name": "ipython",
    "version": 3
   },
   "file_extension": ".py",
   "mimetype": "text/x-python",
   "name": "python",
   "nbconvert_exporter": "python",
   "pygments_lexer": "ipython3",
   "version": "3.8.3"
  }
 },
 "nbformat": 4,
 "nbformat_minor": 4
}
