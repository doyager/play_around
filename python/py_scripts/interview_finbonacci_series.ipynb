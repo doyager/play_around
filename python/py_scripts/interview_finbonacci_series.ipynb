{
 "cells": [
  {
   "cell_type": "code",
   "execution_count": 6,
   "metadata": {},
   "outputs": [
    {
     "name": "stdout",
     "output_type": "stream",
     "text": [
      "How many numbers of Fibonacci have to printed, please enter a valid number non negative number\n",
      "10\n",
      "Fibonacci Series 10  Numbers will be printed !!\n",
      "Fibonacci Series 1 Number :  0\n",
      "Fibonacci Series 2 Number :  1\n",
      "Fibonacci Series  3 Number :  1\n",
      "Fibonacci Series  4 Number :  2\n",
      "Fibonacci Series  5 Number :  3\n",
      "Fibonacci Series  6 Number :  5\n",
      "Fibonacci Series  7 Number :  8\n",
      "Fibonacci Series  8 Number :  13\n",
      "Fibonacci Series  9 Number :  21\n",
      "Fibonacci Series  10 Number :  34\n"
     ]
    }
   ],
   "source": [
    "\n",
    "'''\n",
    "code to accept 'n' number input and print so many numbers in fibonacci serries\n",
    " \n",
    "'''\n",
    "\n",
    "print(\"How many numbers of Fibonacci have to printed, please enter a valid number non negative number\")\n",
    "\n",
    "\n",
    "try: \n",
    " n = int(input())\n",
    " print(\"Fibonacci Series\",n,\" Numbers will be printed !!\")\n",
    " fir=0\n",
    " sec=1\n",
    "\n",
    " print(\"Fibonacci Series 1 Number : \",fir)\n",
    " print(\"Fibonacci Series 2 Number : \",sec)\n",
    " for i in range(3,n+1):\n",
    "    num = fir + sec \n",
    "    fir = sec\n",
    "    sec = num \n",
    "    print(\"Fibonacci Series \",i,\"Number : \",num)\n",
    "except: \n",
    "  print(\"Excecption occured !!\")\n",
    "    \n",
    " \n",
    "\n"
   ]
  },
  {
   "cell_type": "code",
   "execution_count": null,
   "metadata": {},
   "outputs": [],
   "source": []
  }
 ],
 "metadata": {
  "kernelspec": {
   "display_name": "Python 3",
   "language": "python",
   "name": "python3"
  },
  "language_info": {
   "codemirror_mode": {
    "name": "ipython",
    "version": 3
   },
   "file_extension": ".py",
   "mimetype": "text/x-python",
   "name": "python",
   "nbconvert_exporter": "python",
   "pygments_lexer": "ipython3",
   "version": "3.8.3"
  }
 },
 "nbformat": 4,
 "nbformat_minor": 4
}
