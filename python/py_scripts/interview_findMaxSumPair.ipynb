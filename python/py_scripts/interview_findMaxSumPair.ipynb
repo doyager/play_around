{
 "cells": [
  {
   "cell_type": "code",
   "execution_count": 14,
   "metadata": {},
   "outputs": [
    {
     "name": "stdout",
     "output_type": "stream",
     "text": [
      "Lenght:  13\n",
      "Max Sum :  149\n",
      "First Max :  99\n",
      "Second Max :  50\n"
     ]
    }
   ],
   "source": [
    "'''\n",
    "Find the max sum pair , print both numbers and max sum\n",
    "'''\n",
    "x = [3,4,5,6,11,13,9,1,99,50,2,7,8]\n",
    "n = len(x)\n",
    "print(\"Lenght: \",n)\n",
    "firMax=max(x[0],x[1])\n",
    "secMax=min(x[0],x[1])\n",
    "for i in x:\n",
    "    if i > firMax:\n",
    "        secMax = firMax\n",
    "        firMax = i\n",
    "    elif i > secMax and i != secMax:\n",
    "        secMax = i\n",
    "\n",
    "tot = firMax + secMax\n",
    "\n",
    "print(\"Max Sum : \",tot)\n",
    "print(\"First Max : \",firMax)\n",
    "print(\"Second Max : \",secMax)\n"
   ]
  },
  {
   "cell_type": "code",
   "execution_count": null,
   "metadata": {},
   "outputs": [],
   "source": []
  }
 ],
 "metadata": {
  "kernelspec": {
   "display_name": "Python 3",
   "language": "python",
   "name": "python3"
  },
  "language_info": {
   "codemirror_mode": {
    "name": "ipython",
    "version": 3
   },
   "file_extension": ".py",
   "mimetype": "text/x-python",
   "name": "python",
   "nbconvert_exporter": "python",
   "pygments_lexer": "ipython3",
   "version": "3.8.3"
  }
 },
 "nbformat": 4,
 "nbformat_minor": 4
}
