{
 "cells": [
  {
   "cell_type": "code",
   "execution_count": 1,
   "metadata": {},
   "outputs": [
    {
     "name": "stdout",
     "output_type": "stream",
     "text": [
      "Writing programs or programming is a very creative\n",
      "and rewarding activity  You can write programs for\n",
      "many reasons ranging from making your living to solving\n",
      "a difficult data analysis problem to having fun to helping\n",
      "someone else solve a problem  This book assumes that\n",
      "{\\em everyone} needs to know how to program and that once\n",
      "you know how to program, you will figure out what you want\n",
      "to do with your newfound skills\n",
      "\n",
      "We are surrounded in our daily lives with computers ranging\n",
      "from laptops to cell phones  We can think of these computers\n",
      "as our personal assistants who can take care of many things\n",
      "on our behalf  The hardware in our current-day computers\n",
      "is essentially built to continuously as us the question\n",
      "What would you like me to do next\n",
      "\n",
      "Our computers are fast and have vasts amounts of memory and\n",
      "could be very helpful to us if we only knew the language to\n",
      "speak to explain to the computer what we would like it to\n",
      "do next If we knew this language we could tell the\n",
      "computer to do tasks on our behalf that were reptitive\n",
      "Interestingly, the kinds of things computers can do best\n",
      "are often the kinds of things that we humans find boring\n",
      "and mind-numbing\n",
      "24 Lines\n"
     ]
    }
   ],
   "source": [
    "'''\n",
    "There are three files loaded into this environment from the \n",
    "Python for Everybody web site and ready for you to open \n",
    "if you want to do file processing:\n",
    "\"mbox-short.txt\",\n",
    "\"romeo.txt\", and \n",
    "\"words.txt\".\n",
    "'''\n",
    "\n",
    "fh = open(\"/Users/ag03812/workspace/personal/learning/python_learn/words.txt\", \"r\")\n",
    "\n",
    "count = 0\n",
    "for line in fh:\n",
    "    print(line.strip())\n",
    "    count = count + 1\n",
    "\n",
    "print(count,\"Lines\")"
   ]
  },
  {
   "cell_type": "code",
   "execution_count": 2,
   "metadata": {},
   "outputs": [
    {
     "name": "stdout",
     "output_type": "stream",
     "text": [
      "But soft what light through yonder window breaks\n",
      "It is the east and Juliet is the sun\n",
      "Arise fair sun and kill the envious moon\n",
      "Who is already sick and pale with grief\n",
      "4 Lines\n"
     ]
    }
   ],
   "source": [
    "'''\n",
    "Opne and print anther file , count lines\n",
    "'''\n",
    "fh = open(\"/Users/ag03812/workspace/personal/learning/python_learn/romeo.txt\", \"r\")\n",
    "\n",
    "count = 0\n",
    "for line in fh:\n",
    "    print(line.strip())\n",
    "    count = count + 1\n",
    "\n",
    "print(count,\"Lines\")"
   ]
  },
  {
   "cell_type": "code",
   "execution_count": 5,
   "metadata": {},
   "outputs": [
    {
     "name": "stdout",
     "output_type": "stream",
     "text": [
      "Lenght of our file handler variable fh :  167\n",
      "First 10 characters :  But soft wh\n"
     ]
    }
   ],
   "source": [
    "'''\n",
    "Using OPEN function\n",
    "\n",
    "- this loads all the lines with out split , so it loads all the lines as one big blob of line with new line characters\n",
    "in between, so still if we print we see new line characters\n",
    "'''\n",
    "\n",
    "fh = open(\"/Users/ag03812/workspace/personal/learning/python_learn/romeo.txt\")\n",
    "inp=fh.read()\n",
    "\n",
    "print('Lenght of our file handler variable fh : ',len(inp))\n",
    "\n",
    "print(\"First 10 characters : \",inp[:11])\n",
    "\n",
    "'''\n",
    "o/p:\n",
    "Lenght of our file handler variable fh :  167\n",
    "First 10 characters :  But soft wh\n",
    "'''\n"
   ]
  },
  {
   "cell_type": "code",
   "execution_count": 4,
   "metadata": {},
   "outputs": [
    {
     "name": "stdout",
     "output_type": "stream",
     "text": [
      "Enter the line start string to search for :From:\n",
      "Enter no of lines to print with search string :3\n",
      "From: stephen.marquard@uct.ac.za\n",
      "From: louis@media.berkeley.edu\n",
      "From: zqian@umich.edu\n"
     ]
    }
   ],
   "source": [
    "'''\n",
    "FILE parsing and print first 10  lines starting with 'From:'\n",
    "\n",
    "'''\n",
    "\n",
    "fh = open(\"/Users/ag03812/workspace/personal/learning/python_learn/mbox-short.txt\", \"r\")\n",
    "\n",
    "findStr=input(\"Enter the line start string to search for :\")\n",
    "ocrr=int(input(\"Enter no of lines to print with search string :\"))\n",
    "count = 0\n",
    "\n",
    "for line in fh:\n",
    "    line=line.rstrip() #as we have new line character at the end of each line in the file\n",
    "    if line.startswith(findStr):\n",
    "        print(line)\n",
    "        count+=1\n",
    "    if count ==ocrr:\n",
    "        break\n"
   ]
  },
  {
   "cell_type": "code",
   "execution_count": 2,
   "metadata": {},
   "outputs": [
    {
     "name": "stdout",
     "output_type": "stream",
     "text": [
      "Enter the string to search for :@uct.ac.za\n",
      "Enter no of lines to print with search string :5\n",
      "From stephen.marquard@uct.ac.za Sat Jan  5 09:14:16 2008\n",
      "X-Authentication-Warning: nakamura.uits.iupui.edu: apache set sender to stephen.marquard@uct.ac.za using -f\n",
      "From: stephen.marquard@uct.ac.za\n",
      "Author: stephen.marquard@uct.ac.za\n",
      "From david.horwitz@uct.ac.za Fri Jan  4 07:02:32 2008\n"
     ]
    }
   ],
   "source": [
    "'''\n",
    "FILE parsing and print first 5  lines containig a inputed string :\n",
    "\n",
    "input string: @uct.ac.za\n",
    "\n",
    "'''\n",
    "\n",
    "fh = open(\"/Users/ag03812/workspace/personal/learning/python_learn/mbox-short.txt\", \"r\")\n",
    "\n",
    "findStr=input(\"Enter the string to search for :\")\n",
    "ocrr=int(input(\"Enter no of lines to print with search string :\"))\n",
    "count = 0\n",
    "\n",
    "for line in fh:\n",
    "    line=line.strip() #as we have new line character at the end of each line in the file\n",
    "    if findStr in line:\n",
    "        print(line)\n",
    "        count+=1\n",
    "    if count ==ocrr:\n",
    "        break\n"
   ]
  },
  {
   "cell_type": "code",
   "execution_count": 1,
   "metadata": {},
   "outputs": [
    {
     "name": "stdout",
     "output_type": "stream",
     "text": [
      "hello\n"
     ]
    }
   ],
   "source": [
    "print('hello')"
   ]
  },
  {
   "cell_type": "code",
   "execution_count": null,
   "metadata": {},
   "outputs": [],
   "source": []
  }
 ],
 "metadata": {
  "kernelspec": {
   "display_name": "Python 3",
   "language": "python",
   "name": "python3"
  },
  "language_info": {
   "codemirror_mode": {
    "name": "ipython",
    "version": 3
   },
   "file_extension": ".py",
   "mimetype": "text/x-python",
   "name": "python",
   "nbconvert_exporter": "python",
   "pygments_lexer": "ipython3",
   "version": "3.8.3"
  }
 },
 "nbformat": 4,
 "nbformat_minor": 4
}
