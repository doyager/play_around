{
 "cells": [
  {
   "cell_type": "code",
   "execution_count": 20,
   "metadata": {},
   "outputs": [
    {
     "name": "stdout",
     "output_type": "stream",
     "text": [
      "List:  [1, 2, 'ab', True]\n",
      "-----------------------\n",
      "Lenght of list : 4\n",
      "-----------------------\n",
      "Type of list: <class 'list'>\n",
      "-----------------------\n",
      "Operations possible on List :  ['__add__', '__class__', '__contains__', '__delattr__', '__delitem__', '__dir__', '__doc__', '__eq__', '__format__', '__ge__', '__getattribute__', '__getitem__', '__gt__', '__hash__', '__iadd__', '__imul__', '__init__', '__init_subclass__', '__iter__', '__le__', '__len__', '__lt__', '__mul__', '__ne__', '__new__', '__reduce__', '__reduce_ex__', '__repr__', '__reversed__', '__rmul__', '__setattr__', '__setitem__', '__sizeof__', '__str__', '__subclasshook__', 'append', 'clear', 'copy', 'count', 'extend', 'index', 'insert', 'pop', 'remove', 'reverse', 'sort']\n",
      "-----------------------\n",
      "1\n",
      "2\n",
      "ab\n",
      "True\n",
      "-----------------------\n",
      "second element :  2\n",
      "-----------------------\n",
      "Updated List :  [1, 3, 'ab', True]\n",
      "Updated second element :  3\n"
     ]
    }
   ],
   "source": [
    "'''\n",
    "Lists\n",
    "\n",
    "Lists are mutable, we can use the index operator to change the value in a particular index\n",
    "'''\n",
    "\n",
    "s=[1,2,'ab',True]\n",
    "\n",
    "print('List: ',s)\n",
    "\n",
    "print('-----------------------')\n",
    "print('Lenght of list :',len(s))\n",
    "print('-----------------------')\n",
    "print('Type of list:',type(s))\n",
    "print('-----------------------')\n",
    "print('Operations possible on List : ',dir(s))\n",
    "print('-----------------------')\n",
    "\n",
    "for i in s:\n",
    "    print(i)\n",
    "print('-----------------------')\n",
    "print('second element : ',s[1])\n",
    "\n",
    "print('-----------------------')\n",
    "s[1]=3\n",
    "print('Updated List : ',s)\n",
    "print('Updated second element : ',s[1])"
   ]
  },
  {
   "cell_type": "code",
   "execution_count": 12,
   "metadata": {},
   "outputs": [
    {
     "name": "stdout",
     "output_type": "stream",
     "text": [
      "-----------------------\n",
      "List using Range\n",
      "range(0, 4)\n"
     ]
    }
   ],
   "source": [
    "print('-----------------------')\n",
    "print('List using Range')\n",
    "print(range(4))"
   ]
  },
  {
   "cell_type": "code",
   "execution_count": 15,
   "metadata": {},
   "outputs": [
    {
     "name": "stdout",
     "output_type": "stream",
     "text": [
      "a\n",
      "b\n",
      "c\n",
      "d\n",
      "-----------------------\n",
      "a\n",
      "b\n",
      "c\n",
      "d\n"
     ]
    }
   ],
   "source": [
    "'''\n",
    "Ways of using List in For loop\n",
    "'''\n",
    "\n",
    "letters=['a','b','c','d']\n",
    "\n",
    "for l in letters:\n",
    "    print(l)\n",
    "print('-----------------------')\n",
    "for l in range(len(letters)):\n",
    "    v=letters[l]\n",
    "    print(v)"
   ]
  },
  {
   "cell_type": "code",
   "execution_count": 19,
   "metadata": {},
   "outputs": [
    {
     "name": "stdout",
     "output_type": "stream",
     "text": [
      "--------------------------\n",
      "Concat Lists\n",
      "--------------------------\n",
      "[1, 2, 3, 4, 5, 6]\n",
      "--------------------------\n",
      "Slicing Lists\n",
      "--------------------------\n",
      "c[1:3] ::  [2, 3]\n",
      "--------------------------\n",
      "c[:3] ::  [1, 2, 3]\n",
      "--------------------------\n",
      "c[3:] ::  [4, 5, 6]\n",
      "--------------------------\n",
      "c[:] ::  [1, 2, 3, 4, 5, 6]\n"
     ]
    }
   ],
   "source": [
    "'''\n",
    "List manipulations\n",
    "'''\n",
    "\n",
    "print('--------------------------')\n",
    "print('Concat Lists')\n",
    "print('--------------------------')\n",
    "a=[1,2,3]\n",
    "b=[4,5,6]\n",
    "c=a+b\n",
    "print(c)\n",
    "\n",
    "\n",
    "print('--------------------------')\n",
    "print('Slicing Lists')\n",
    "print('--------------------------')\n",
    "print('c[1:3] :: ',c[1:3])\n",
    "print('--------------------------')\n",
    "print('c[:3] :: ',c[:3])\n",
    "print('--------------------------')\n",
    "print('c[3:] :: ',c[3:])\n",
    "print('--------------------------')\n",
    "print('c[:] :: ',c[:])"
   ]
  },
  {
   "cell_type": "code",
   "execution_count": 21,
   "metadata": {},
   "outputs": [
    {
     "name": "stdout",
     "output_type": "stream",
     "text": [
      "List using Construtors : \n",
      "[1, 'apple', False]\n"
     ]
    }
   ],
   "source": [
    "'''\n",
    "LIST Constructors\n",
    "'''\n",
    "print('List using Construtors : ')\n",
    "k=list()\n",
    "k.append(1)\n",
    "k.append('apple')\n",
    "k.append(False)\n",
    "\n",
    "print(k)\n"
   ]
  },
  {
   "cell_type": "code",
   "execution_count": 31,
   "metadata": {},
   "outputs": [
    {
     "name": "stdout",
     "output_type": "stream",
     "text": [
      "[1, 2, 3]\n",
      "[1, 2, 3, 4, 5, 6]\n"
     ]
    },
    {
     "data": {
      "text/plain": [
       "False"
      ]
     },
     "execution_count": 31,
     "metadata": {},
     "output_type": "execute_result"
    }
   ],
   "source": [
    "\n",
    "a=[1,2,3]\n",
    "b=[4,5,6]\n",
    "print(a)\n",
    "c=a+b\n",
    "print(c)\n",
    "\n",
    "\n",
    "2 in c\n",
    "#o/p: True\n",
    "\n",
    "10 in c\n",
    "#o/p: False"
   ]
  },
  {
   "cell_type": "code",
   "execution_count": 49,
   "metadata": {},
   "outputs": [
    {
     "name": "stdout",
     "output_type": "stream",
     "text": [
      "[4, 11, 1, 12, 24, 2, 99, 3]\n",
      "Sorted number list :  [1, 2, 3, 4, 11, 12, 24, 99]\n",
      "Max in List-a : 99\n",
      "Sum in List-a : 156\n",
      "avg in List-a : 19.5\n",
      "--------------------------\n",
      "['c', 'a', 'b']\n",
      "Sorted alphabet list :  ['a', 'b', 'c']\n"
     ]
    }
   ],
   "source": [
    "'''\n",
    "List sort\n",
    "'''\n",
    "\n",
    "\n",
    "a=[4,11,1,12,24,2,99,3]\n",
    "print(a)\n",
    "a.sort()\n",
    "\n",
    "print('Sorted number list : ',a)\n",
    "\n",
    "print('Max in List-a :',max(a))\n",
    "\n",
    "print('Sum in List-a :',sum(a))\n",
    "\n",
    "print('avg in List-a :',sum(a)/len(a))\n",
    "\n",
    "b=['c','a','b']\n",
    "\n",
    "print('--------------------------')\n",
    "print(b)\n",
    "b.sort()\n",
    "print('Sorted alphabet list : ',b)"
   ]
  },
  {
   "cell_type": "code",
   "execution_count": 57,
   "metadata": {},
   "outputs": [
    {
     "name": "stdout",
     "output_type": "stream",
     "text": [
      "['ab', 'cd', 'ef']\n",
      "char from a: ab\n",
      "char from a: cd\n",
      "char from a: ef\n",
      "--------------------------\n",
      "ab;cd;ef\n",
      "Given split defaultly splits by space, we get the exact value :  ['ab;cd;ef']\n",
      "['ab', 'cd', 'ef']\n",
      "char from a: ab\n",
      "char from a: cd\n",
      "char from a: ef\n"
     ]
    }
   ],
   "source": [
    "'''\n",
    "SPLIT\n",
    "'''\n",
    "\n",
    "a='ab cd ef'\n",
    "b=a.split()\n",
    "print(b)\n",
    "for i in b:\n",
    "    print('char from a:',i)\n",
    "    \n",
    "print('--------------------------')\n",
    "a='ab;cd;ef'\n",
    "print(a)\n",
    "b=a.split()\n",
    "print('Given split defaultly splits by space, we get the exact value : ',b)\n",
    "b=a.split(';')\n",
    "print(b)\n",
    "for i in b:\n",
    "    print('char from a:',i)"
   ]
  },
  {
   "cell_type": "code",
   "execution_count": 58,
   "metadata": {},
   "outputs": [
    {
     "name": "stdout",
     "output_type": "stream",
     "text": [
      "Enter file name: /Users/ag03812/workspace/personal/learning/python_learn/romeo.txt\n",
      "['Arise', 'But', 'It', 'Juliet', 'Who', 'already', 'and', 'breaks', 'east', 'envious', 'fair', 'grief', 'is', 'kill', 'light', 'moon', 'pale', 'sick', 'soft', 'sun', 'the', 'through', 'what', 'window', 'with', 'yonder']\n"
     ]
    }
   ],
   "source": [
    "'''\n",
    "Open the file romeo.txt and read it line by line.\n",
    "For each line, split the line into a list of words using the split() method. \n",
    "The program should build a list of words. For each word on each line \n",
    "check to see if the word is already in the list and if not append it \n",
    "to the list. When the program completes, sort and print the resulting words in alphabetical order.\n",
    "You can download the sample data at http://www.py4e.com/code3/romeo.txt\n",
    "\n",
    "'''\n",
    "\n",
    "fname = input(\"Enter file name: \")\n",
    "fh = open(fname)\n",
    "lst = list()\n",
    "for line in fh:\n",
    "    line=line.strip()\n",
    "    l=line.split()\n",
    "    for i in l:\n",
    "        if i not in lst:\n",
    "            lst.append(i)\n",
    "#sorting\n",
    "lst.sort()\n",
    "print(lst)\n"
   ]
  },
  {
   "cell_type": "code",
   "execution_count": 59,
   "metadata": {},
   "outputs": [
    {
     "name": "stdout",
     "output_type": "stream",
     "text": [
      "Enter file name: \n",
      "stephen.marquard@uct.ac.za\n",
      "louis@media.berkeley.edu\n",
      "zqian@umich.edu\n",
      "rjlowe@iupui.edu\n",
      "zqian@umich.edu\n",
      "rjlowe@iupui.edu\n",
      "cwen@iupui.edu\n",
      "cwen@iupui.edu\n",
      "gsilver@umich.edu\n",
      "gsilver@umich.edu\n",
      "zqian@umich.edu\n",
      "gsilver@umich.edu\n",
      "wagnermr@iupui.edu\n",
      "zqian@umich.edu\n",
      "antranig@caret.cam.ac.uk\n",
      "gopal.ramasammycook@gmail.com\n",
      "david.horwitz@uct.ac.za\n",
      "david.horwitz@uct.ac.za\n",
      "david.horwitz@uct.ac.za\n",
      "david.horwitz@uct.ac.za\n",
      "stephen.marquard@uct.ac.za\n",
      "louis@media.berkeley.edu\n",
      "louis@media.berkeley.edu\n",
      "ray@media.berkeley.edu\n",
      "cwen@iupui.edu\n",
      "cwen@iupui.edu\n",
      "cwen@iupui.edu\n",
      "There were 27 lines in the file with From as the first word\n"
     ]
    }
   ],
   "source": [
    "'''\n",
    "Open the file mbox-short.txt and read it line by line. When you find a line that starts with 'From ' like the following line:\n",
    "From stephen.marquard@uct.ac.za Sat Jan  5 09:14:16 2008\n",
    "You will parse the From line using split() and \n",
    "print out the second word in the line (i.e. the entire \\\n",
    "address of the person who sent the message). \n",
    "Then print out a count at the end.\n",
    "Hint: make sure not to include the lines that start with 'From:'. \n",
    "Also look at the last line of the sample output to see how to print the count.\n",
    "\n",
    "'''\n",
    "\n",
    "\n",
    "fname = input(\"Enter file name: \")\n",
    "if len(fname) < 1:\n",
    "    fname = \"/Users/ag03812/workspace/personal/learning/python_learn/mbox-short.txt\"\n",
    "\n",
    "fh = open(fname)\n",
    "count = 0\n",
    "for line in fh:\n",
    "    if line.startswith('From') and (not line.startswith('From:')):\n",
    "        print((line.split())[1])\n",
    "        count+=1\n",
    "\n",
    "print(\"There were\", count, \"lines in the file with From as the first word\")\n"
   ]
  },
  {
   "cell_type": "code",
   "execution_count": null,
   "metadata": {},
   "outputs": [],
   "source": []
  }
 ],
 "metadata": {
  "kernelspec": {
   "display_name": "Python 3",
   "language": "python",
   "name": "python3"
  },
  "language_info": {
   "codemirror_mode": {
    "name": "ipython",
    "version": 3
   },
   "file_extension": ".py",
   "mimetype": "text/x-python",
   "name": "python",
   "nbconvert_exporter": "python",
   "pygments_lexer": "ipython3",
   "version": "3.8.3"
  }
 },
 "nbformat": 4,
 "nbformat_minor": 4
}
