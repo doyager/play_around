{
 "cells": [
  {
   "cell_type": "code",
   "execution_count": 2,
   "metadata": {},
   "outputs": [
    {
     "name": "stdout",
     "output_type": "stream",
     "text": [
      "{'a': 1, 'b': 12, 'c': 45}\n",
      "{'a': 1, 'b': 12, 'c': 45, 25: 'abc'}\n"
     ]
    }
   ],
   "source": [
    "'''\n",
    "Dictionaries\n",
    "- Dictionaries are bag of values\n",
    "- Dictinoaries has no order\n",
    "- Dictionaries preserve insertion order\n",
    "'''\n",
    "\n",
    "x=dict()\n",
    "x['a']=1\n",
    "x['b']=12\n",
    "x['c']=45\n",
    "\n",
    "print(x)\n",
    "\n",
    "x[25]='abc'\n",
    "\n",
    "print(x)"
   ]
  },
  {
   "cell_type": "code",
   "execution_count": 6,
   "metadata": {},
   "outputs": [
    {
     "name": "stdout",
     "output_type": "stream",
     "text": [
      "{'a': 7, 'b': 1, 'c': 3, 'd': 3, 'e': 2, 'f': 2}\n",
      "{'a': 7, 'b': 1, 'c': 3, 'd': 3, 'e': 2, 'f': 2}\n"
     ]
    }
   ],
   "source": [
    "'''\n",
    "Find the occurances of each word in the words list\n",
    "\n",
    "'''\n",
    "\n",
    "words=['a','b','c','d','c','d','c','d','a','a','a','e','f','a','a','a','e','f']\n",
    "counts=dict()\n",
    "\n",
    "for word in words:\n",
    "    if word not in counts:\n",
    "        counts[word]=1\n",
    "    else:\n",
    "        counts[word]=counts[word]+1\n",
    "print(counts)\n",
    "#o/p: {'a': 7, 'b': 1, 'c': 3, 'd': 3, 'e': 2, 'f': 2}\n",
    "\n",
    "#get method - to check if a key is there, if not present we can return some default value\n",
    "\n",
    "counts.get('a',100)\n",
    "#o/p : 7\n",
    "\n",
    "\n",
    "counts.get('k',500)\n",
    "#o/p : 500\n",
    "\n",
    "\n",
    "\n",
    "#method two : to get counts\n",
    "\n",
    "\n",
    "words1=['a','b','c','d','c','d','c','d','a','a','a','e','f','a','a','a','e','f']\n",
    "counts1=dict()\n",
    "\n",
    "for w in words1:\n",
    "    counts1[w]=counts1.get(w,0)+1\n",
    "print(counts1)\n",
    "#o/p: {'a': 7, 'b': 1, 'c': 3, 'd': 3, 'e': 2, 'f': 2}\n"
   ]
  },
  {
   "cell_type": "code",
   "execution_count": 20,
   "metadata": {},
   "outputs": [
    {
     "name": "stdout",
     "output_type": "stream",
     "text": [
      "Keys:  dict_keys(['a', 'b', 'c', 'd', 'e', 'f'])\n",
      "Values:  dict_values([7, 1, 3, 3, 2, 2])\n",
      "dict_values([7, 1, 3, 3, 2, 2])\n",
      "<class 'dict_values'>\n",
      "Values in List \n",
      "[7, 1, 3, 3, 2, 2]\n",
      "Keys in List\n",
      "['a', 'b', 'c', 'd', 'e', 'f']\n",
      "Items -------> Tuples , it gives list of key value pairs\n",
      "dict_items([('a', 7), ('b', 1), ('c', 3), ('d', 3), ('e', 2), ('f', 2)])\n",
      "-------------------------\n",
      "       Keys\n",
      "-------------------------\n",
      "a\n",
      "b\n",
      "c\n",
      "d\n",
      "e\n",
      "f\n",
      "-------------------------\n",
      "        Values \n",
      "-------------------------\n",
      "7\n",
      "1\n",
      "3\n",
      "3\n",
      "2\n",
      "2\n"
     ]
    },
    {
     "data": {
      "text/plain": [
       "'\\n7\\n1\\n3\\n3\\n2\\n2    \\n'"
      ]
     },
     "execution_count": 20,
     "metadata": {},
     "output_type": "execute_result"
    }
   ],
   "source": [
    "\n",
    "\n",
    "dic = {'a': 7, 'b': 1, 'c': 3, 'd': 3, 'e': 2, 'f': 2}\n",
    "\n",
    "\n",
    "print('Keys: ',dic.keys())\n",
    "\n",
    "\n",
    "print('Values: ',dic.values())\n",
    "\n",
    "val = dic.values()\n",
    "print(val)\n",
    "#o/p: dict_values([7, 1, 3, 3, 2, 2])\n",
    "\n",
    "print(type(val))\n",
    "#o/p: <class 'dict_values'>\n",
    "\n",
    "\n",
    "print('Values in List ')\n",
    "print(list(dic.values()))\n",
    "#o/p: [7, 1, 3, 3, 2, 2]\n",
    "\n",
    "\n",
    "print('Keys in List')\n",
    "print(list(dic.keys()))\n",
    "#o/p: ['a', 'b', 'c', 'd', 'e', 'f']\n",
    "\n",
    "\n",
    "print('Items -------> Tuples , it gives list of key value pairs')\n",
    "print(dic.items())\n",
    "#o/p: dict_items([('a', 7), ('b', 1), ('c', 3), ('d', 3), ('e', 2), ('f', 2)])\n",
    "\n",
    "\n",
    "\n",
    "print('-------------------------')\n",
    "print('       Keys')\n",
    "print('-------------------------')\n",
    "\n",
    "for i in dic.keys():\n",
    "    print(i)\n",
    "'''\n",
    "a\n",
    "b\n",
    "c\n",
    "d\n",
    "e\n",
    "f\n",
    "'''\n",
    "\n",
    "print('-------------------------')\n",
    " \n",
    "print('        Values ')\n",
    "print('-------------------------')\n",
    "for value in dic.values():\n",
    "    print(value)\n",
    "'''\n",
    "7\n",
    "1\n",
    "3\n",
    "3\n",
    "2\n",
    "2    \n",
    "'''\n",
    "    \n",
    "    "
   ]
  },
  {
   "cell_type": "code",
   "execution_count": 1,
   "metadata": {},
   "outputs": [
    {
     "name": "stdout",
     "output_type": "stream",
     "text": [
      "------------------------------\n",
      "    Dictionaries with Number keys\n",
      "------------------------------\n",
      "1\n",
      "2\n",
      "3\n",
      "22\n"
     ]
    },
    {
     "ename": "KeyError",
     "evalue": "5",
     "output_type": "error",
     "traceback": [
      "\u001b[0;31m---------------------------------------------------------------------------\u001b[0m",
      "\u001b[0;31mKeyError\u001b[0m                                  Traceback (most recent call last)",
      "\u001b[0;32m<ipython-input-1-c16548c78542>\u001b[0m in \u001b[0;36m<module>\u001b[0;34m\u001b[0m\n\u001b[1;32m     12\u001b[0m \u001b[0;31m#o/p: 22\u001b[0m\u001b[0;34m\u001b[0m\u001b[0;34m\u001b[0m\u001b[0;34m\u001b[0m\u001b[0m\n\u001b[1;32m     13\u001b[0m \u001b[0;34m\u001b[0m\u001b[0m\n\u001b[0;32m---> 14\u001b[0;31m \u001b[0mprint\u001b[0m\u001b[0;34m(\u001b[0m\u001b[0md\u001b[0m\u001b[0;34m[\u001b[0m\u001b[0;36m5\u001b[0m\u001b[0;34m]\u001b[0m\u001b[0;34m)\u001b[0m\u001b[0;34m\u001b[0m\u001b[0;34m\u001b[0m\u001b[0m\n\u001b[0m\u001b[1;32m     15\u001b[0m \u001b[0;31m#o/p: KeyError  Traceback (most recent call last)\u001b[0m\u001b[0;34m\u001b[0m\u001b[0;34m\u001b[0m\u001b[0;34m\u001b[0m\u001b[0m\n\u001b[1;32m     16\u001b[0m \u001b[0;34m\u001b[0m\u001b[0m\n",
      "\u001b[0;31mKeyError\u001b[0m: 5"
     ]
    }
   ],
   "source": [
    "\n",
    "print('------------------------------')\n",
    "print('    Dictionaries with Number keys')\n",
    "\n",
    "print('------------------------------')\n",
    "d={1:12,2:22,3:33}\n",
    "\n",
    "for k in d.keys():\n",
    "    print(k)\n",
    "    \n",
    "    \n",
    "print(d[2])\n",
    "#o/p: 22\n",
    "\n",
    "print(d[5])\n",
    "#o/p: KeyError  Traceback (most recent call last)\n",
    "\n"
   ]
  },
  {
   "cell_type": "code",
   "execution_count": null,
   "metadata": {},
   "outputs": [],
   "source": [
    "\n",
    "'''\n",
    "####### WORD COUTN AND FIND THE MOST OCCURING EMAIL #######\n",
    "9.4 Write a program to read through the mbox-short.txt and figure out who has sent the \n",
    "greatest number of mail messages. The program looks for 'From ' lines and takes the\n",
    "second word of those lines as the person who sent the mail. The program creates a\n",
    "Python dictionary that maps the sender's mail address to a count of the number of \n",
    "times they appear in the file. After the dictionary is produced, the program reads through the\n",
    "dictionary using a maximum loop to find the most prolific committer.\n",
    "\n",
    "'''\n",
    "\n",
    "\n",
    "\n",
    "\n",
    "name = input(\"Enter file:\")\n",
    "if len(name) < 1:\n",
    "    name = \"/Users/ag03812/workspace/personal/learning/python_learn/mbox-short.txt\"\n",
    "handle = open(name)\n",
    "\n",
    "email_dic=dict()\n",
    "for line in handle:\n",
    "    if line.startswith('From') and (not line.startswith('From:')):\n",
    "    \t#print(line)\n",
    "        words=line.split()\n",
    "        #print(words[1])\n",
    "        email_dic[words[1]]=email_dic.get(words[1],0)+1\n",
    "\n",
    "#print(email_dic.values())\n",
    "#find the largest count \n",
    "\n",
    "big_email=None\n",
    "big_count=None\n",
    "\n",
    "\n",
    "for k,v in email_dic.items():\n",
    "    if big_count is None or big_count < v:\n",
    "        big_email=k\n",
    "        big_count=v\n",
    "            \n",
    "print(big_email,big_count)\n",
    "\n",
    "'''\n",
    "Desire o/p:\n",
    "cwen@iupui.edu 5\n",
    "\n",
    "Out o/p:\n",
    "\n",
    "cwen@iupui.edu 5\n",
    "'''"
   ]
  },
  {
   "cell_type": "code",
   "execution_count": null,
   "metadata": {},
   "outputs": [],
   "source": [
    "print('hello')"
   ]
  },
  {
   "cell_type": "code",
   "execution_count": null,
   "metadata": {},
   "outputs": [],
   "source": []
  }
 ],
 "metadata": {
  "kernelspec": {
   "display_name": "Python 3",
   "language": "python",
   "name": "python3"
  }
 },
 "nbformat": 4,
 "nbformat_minor": 4
}
