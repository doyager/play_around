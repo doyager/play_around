{
 "cells": [
  {
   "cell_type": "code",
   "execution_count": 1,
   "metadata": {},
   "outputs": [
    {
     "name": "stdout",
     "output_type": "stream",
     "text": [
      "Hellow\n"
     ]
    }
   ],
   "source": [
    "'''\n",
    "TUPLES\n",
    "\n",
    "- exaclty like list , but use paranthesis where as LIST is SQUARE BRACES\n",
    "- Tuples are immutable , but List are mutable  , so you cant alter a Tuple\n",
    "- Given Tuples are immutable , it gives python to be more efficinet , given tuples dont change , where \n",
    "as for LIST they have to allocate extra memory for this changing operations\n",
    "- so if we prefer to make a temporary variable and throw that variable away, we prefer tuple \n",
    "- Tuples are comparable\n",
    "\n",
    "'''"
   ]
  },
  {
   "cell_type": "code",
   "execution_count": 3,
   "metadata": {},
   "outputs": [
    {
     "name": "stdout",
     "output_type": "stream",
     "text": [
      "tuple 3rd element 3\n"
     ]
    },
    {
     "ename": "TypeError",
     "evalue": "'tuple' object does not support item assignment",
     "output_type": "error",
     "traceback": [
      "\u001b[0;31m---------------------------------------------------------------------------\u001b[0m",
      "\u001b[0;31mTypeError\u001b[0m                                 Traceback (most recent call last)",
      "\u001b[0;32m<ipython-input-3-e661c5ce4a86>\u001b[0m in \u001b[0;36m<module>\u001b[0;34m\u001b[0m\n\u001b[1;32m      4\u001b[0m \u001b[0mprint\u001b[0m\u001b[0;34m(\u001b[0m\u001b[0;34m'tuple 3rd element'\u001b[0m\u001b[0;34m,\u001b[0m\u001b[0mx\u001b[0m\u001b[0;34m[\u001b[0m\u001b[0;36m2\u001b[0m\u001b[0;34m]\u001b[0m\u001b[0;34m)\u001b[0m\u001b[0;34m\u001b[0m\u001b[0;34m\u001b[0m\u001b[0m\n\u001b[1;32m      5\u001b[0m \u001b[0;34m\u001b[0m\u001b[0m\n\u001b[0;32m----> 6\u001b[0;31m \u001b[0mx\u001b[0m\u001b[0;34m[\u001b[0m\u001b[0;36m2\u001b[0m\u001b[0;34m]\u001b[0m\u001b[0;34m=\u001b[0m\u001b[0;36m0\u001b[0m\u001b[0;34m\u001b[0m\u001b[0;34m\u001b[0m\u001b[0m\n\u001b[0m\u001b[1;32m      7\u001b[0m \u001b[0mprint\u001b[0m\u001b[0;34m(\u001b[0m\u001b[0;34m'tuple 3rd element after assignment operation'\u001b[0m\u001b[0;34m,\u001b[0m\u001b[0mx\u001b[0m\u001b[0;34m[\u001b[0m\u001b[0;36m2\u001b[0m\u001b[0;34m]\u001b[0m\u001b[0;34m)\u001b[0m\u001b[0;34m\u001b[0m\u001b[0;34m\u001b[0m\u001b[0m\n",
      "\u001b[0;31mTypeError\u001b[0m: 'tuple' object does not support item assignment"
     ]
    }
   ],
   "source": [
    "\n",
    "\n",
    "#tuple\n",
    "x = (1,2,3)\n",
    "\n",
    "print('tuple 3rd element',x[2])\n",
    "\n",
    "x[2]=0   # \n",
    "\n",
    "#TypeError: 'tuple' object does not support item assignment\n",
    "\n",
    "print('tuple 3rd element after assignment operation',x[2])"
   ]
  },
  {
   "cell_type": "code",
   "execution_count": 8,
   "metadata": {},
   "outputs": [
    {
     "data": {
      "text/plain": [
       "True"
      ]
     },
     "execution_count": 8,
     "metadata": {},
     "output_type": "execute_result"
    }
   ],
   "source": [
    "'''\n",
    "Tuples are comparable , it iwll compare each element to element and decide\n",
    "'''\n",
    "\n",
    "(4,4,4) < (4,4,5)\n",
    "#true\n",
    "\n",
    "(1,2,3) < (1,2,4)\n",
    "#true\n",
    "\n",
    "(5,2) > (5,1)\n",
    "#true\n",
    "\n",
    "#string comparision\n",
    "('a','c') < ('a','d')\n",
    "#true\n",
    "\n",
    "('abc','abcd') < ('abc','ad')\n",
    "#true - as b is less than d"
   ]
  },
  {
   "cell_type": "code",
   "execution_count": 12,
   "metadata": {},
   "outputs": [
    {
     "name": "stdout",
     "output_type": "stream",
     "text": [
      "Items:\n",
      "dict_items([('a', 1), ('c', 3), ('b', 2)])\n",
      "Sorted Items:\n"
     ]
    },
    {
     "data": {
      "text/plain": [
       "[('a', 1), ('b', 2), ('c', 3)]"
      ]
     },
     "execution_count": 12,
     "metadata": {},
     "output_type": "execute_result"
    }
   ],
   "source": [
    "'''\n",
    "Sortin list of tuples\n",
    "'''\n",
    "d ={'a':1,'c':3,'b':2}\n",
    "print('Items:')\n",
    "print(d.items())\n",
    "print('Sorted Items:')\n",
    "sorted(d.items()) #sorting is based on the KEY value"
   ]
  },
  {
   "cell_type": "code",
   "execution_count": 14,
   "metadata": {},
   "outputs": [
    {
     "name": "stdout",
     "output_type": "stream",
     "text": [
      "a 1\n",
      "b 2\n",
      "c 3\n",
      "d 4\n"
     ]
    }
   ],
   "source": [
    "'''\n",
    "Looping throudh dictionary in key order , so we will sort items with sorted fucntion\n",
    "'''\n",
    "\n",
    "d ={'a':1,'c':3,'d':4,'b':2}\n",
    "\n",
    "for k,v in sorted(d.items()):\n",
    "    print(k,v)"
   ]
  },
  {
   "cell_type": "code",
   "execution_count": 17,
   "metadata": {},
   "outputs": [
    {
     "name": "stdout",
     "output_type": "stream",
     "text": [
      "[(4, 'd'), (3, 'c'), (2, 'b'), (1, 'a')]\n",
      "tmp1 \n",
      "[1, 'a', 3, 'c', 4, 'd', 2, 'b']\n"
     ]
    }
   ],
   "source": [
    "'''\n",
    "Add to list and reverse key order \n",
    "'''\n",
    "\n",
    "\n",
    "d ={'a':1,'c':3,'d':4,'b':2}\n",
    "\n",
    "tmp=list()\n",
    "tmp1=list()\n",
    "\n",
    "for k,v in d.items():\n",
    "    tmp.append((v,k))\n",
    "    tmp1.append(v)\n",
    "    tmp1.append(k)\n",
    "\n",
    "tmp=sorted(tmp,reverse=True) #sorting in reverse order based on KEY\n",
    "print(tmp)\n",
    "#o/p: [(4, 'd'), (3, 'c'), (2, 'b'), (1, 'a')]\n",
    "\n",
    "print('tmp1 ')\n",
    "print(tmp1)\n",
    "#o/p: [1, 'a', 3, 'c', 4, 'd', 2, 'b']"
   ]
  },
  {
   "cell_type": "code",
   "execution_count": 19,
   "metadata": {},
   "outputs": [
    {
     "name": "stdout",
     "output_type": "stream",
     "text": [
      "{'a': 1, 'b': 22, 'c': -5}\n",
      "[(-5, 'c'), (1, 'a'), (22, 'b')]\n"
     ]
    }
   ],
   "source": [
    "\n",
    "'''\n",
    "List comprehension\n",
    "'''\n",
    "\n",
    "c={'a':1,'b':22,'c':-5}\n",
    "\n",
    "print(c)\n",
    "#o/p: {'a': 1, 'b': 22, 'c': -5}\n",
    "\n",
    "#list comphrehension : trying to switch keys to values and sort based on the numbers\n",
    "print(sorted((v,k)for k,v in c.items()))\n",
    "#o/p: [(-5, 'c'), (1, 'a'), (22, 'b')]\n",
    "\n"
   ]
  },
  {
   "cell_type": "code",
   "execution_count": 21,
   "metadata": {},
   "outputs": [
    {
     "name": "stdout",
     "output_type": "stream",
     "text": [
      "[15, 14, 3, 1, 0]\n"
     ]
    }
   ],
   "source": [
    "\n",
    "d=[1,3,0,15,14]\n",
    "d.sort(reverse=True)\n",
    "print(d)"
   ]
  },
  {
   "cell_type": "code",
   "execution_count": 24,
   "metadata": {},
   "outputs": [
    {
     "name": "stdout",
     "output_type": "stream",
     "text": [
      "Enter file:\n",
      "04 3\n",
      "06 1\n",
      "07 1\n",
      "09 2\n",
      "10 3\n",
      "11 6\n",
      "14 1\n",
      "15 2\n",
      "16 4\n",
      "17 2\n",
      "18 1\n",
      "19 1\n"
     ]
    }
   ],
   "source": [
    "'''\n",
    "10.2 Write a program to read through the mbox-short.txt and \n",
    "figure out the distribution by hour of the day for each of the messages.\n",
    "You can pull the hour out from the 'From ' line by finding the time and then\n",
    "splitting the string a second time using a colon.\n",
    "From stephen.marquard@uct.ac.za Sat Jan  5 09:14:16 2008\n",
    "Once you have accumulated the counts for each hour, print out the counts, sorted by hour as shown below.\n",
    "\n",
    "Desired o/p:\n",
    "04 3\n",
    "06 1\n",
    "07 1\n",
    "09 2\n",
    "10 3\n",
    "11 6\n",
    "14 1\n",
    "15 2\n",
    "16 4\n",
    "17 2\n",
    "18 1\n",
    "19 1\n",
    "'''\n",
    "\n",
    "\n",
    "name = input(\"Enter file:\")\n",
    "if len(name) < 1:\n",
    "    name = \"/Users/ag03812/workspace/personal/learning/python_learn/mbox-short.txt\"\n",
    "handle = open(name)\n",
    "\n",
    "hrs_cnts=dict()\n",
    "\n",
    "for lines in handle:\n",
    "    if lines.startswith('From') and (not lines.startswith('From:')):\n",
    "        #print(lines)\n",
    "        words=lines.split()\n",
    "        hrs=(words[5].split(':'))[0]\n",
    "        hrs_cnts[hrs]=hrs_cnts.get(hrs,0)+1\n",
    "        #print(hrs)\n",
    "\n",
    "for k,v in sorted(hrs_cnts.items()):\n",
    "    print(k,v)"
   ]
  },
  {
   "cell_type": "code",
   "execution_count": null,
   "metadata": {},
   "outputs": [],
   "source": []
  }
 ],
 "metadata": {
  "kernelspec": {
   "display_name": "Python 3",
   "language": "python",
   "name": "python3"
  },
  "language_info": {
   "codemirror_mode": {
    "name": "ipython",
    "version": 3
   },
   "file_extension": ".py",
   "mimetype": "text/x-python",
   "name": "python",
   "nbconvert_exporter": "python",
   "pygments_lexer": "ipython3",
   "version": "3.8.3"
  }
 },
 "nbformat": 4,
 "nbformat_minor": 4
}
